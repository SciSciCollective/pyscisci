{
 "cells": [
  {
   "cell_type": "code",
   "execution_count": 1,
   "metadata": {},
   "outputs": [],
   "source": [
    "%load_ext autoreload\n",
    "%autoreload 2\n",
    "%matplotlib inline"
   ]
  },
  {
   "cell_type": "code",
   "execution_count": 2,
   "metadata": {},
   "outputs": [],
   "source": [
    "import os\n",
    "import pandas as pd\n",
    "import numpy as np\n",
    "\n",
    "from pyscisci.datasource.APS import APS\n",
    "from pyscisci.metrics import compute_raostriling_interdisciplinarity\n",
    "\n",
    "import matplotlib.pylab as plt\n",
    "\n",
    "path2aps = '/Volumes/GatesExpansionDrive/DataSets/APS/APS2019'"
   ]
  },
  {
   "cell_type": "code",
   "execution_count": 3,
   "metadata": {},
   "outputs": [
    {
     "data": {
      "text/html": [
       "<div>\n",
       "<style scoped>\n",
       "    .dataframe tbody tr th:only-of-type {\n",
       "        vertical-align: middle;\n",
       "    }\n",
       "\n",
       "    .dataframe tbody tr th {\n",
       "        vertical-align: top;\n",
       "    }\n",
       "\n",
       "    .dataframe thead th {\n",
       "        text-align: right;\n",
       "    }\n",
       "</style>\n",
       "<table border=\"1\" class=\"dataframe\">\n",
       "  <thead>\n",
       "    <tr style=\"text-align: right;\">\n",
       "      <th></th>\n",
       "      <th>PublicationId</th>\n",
       "      <th>RaoStirling</th>\n",
       "    </tr>\n",
       "  </thead>\n",
       "  <tbody>\n",
       "    <tr>\n",
       "      <th>0</th>\n",
       "      <td>0</td>\n",
       "      <td>0.020387</td>\n",
       "    </tr>\n",
       "    <tr>\n",
       "      <th>1</th>\n",
       "      <td>1</td>\n",
       "      <td>0.012410</td>\n",
       "    </tr>\n",
       "    <tr>\n",
       "      <th>2</th>\n",
       "      <td>2</td>\n",
       "      <td>0.011382</td>\n",
       "    </tr>\n",
       "    <tr>\n",
       "      <th>3</th>\n",
       "      <td>3</td>\n",
       "      <td>0.026113</td>\n",
       "    </tr>\n",
       "    <tr>\n",
       "      <th>4</th>\n",
       "      <td>4</td>\n",
       "      <td>0.009458</td>\n",
       "    </tr>\n",
       "  </tbody>\n",
       "</table>\n",
       "</div>"
      ],
      "text/plain": [
       "   PublicationId  RaoStirling\n",
       "0              0     0.020387\n",
       "1              1     0.012410\n",
       "2              2     0.011382\n",
       "3              3     0.026113\n",
       "4              4     0.009458"
      ]
     },
     "execution_count": 3,
     "metadata": {},
     "output_type": "execute_result"
    }
   ],
   "source": [
    "pub2ref_df = [[11, 0], [11, 1], [11, 2], [11, 3]]\n",
    "pub2ref_df += [[12, 0], [12, 2], [12, 3]] \n",
    "pub2ref_df += [[13, 0], [13, 2], [13, 4]]\n",
    "pub2ref_df += [[14, 0]]\n",
    "pub2ref_df += [[15, 0], [15, 2], [15, 3], [15, 4]] # d5 citations\n",
    "pub2ref_df = pd.DataFrame(pub2ref_df, columns = ['CitingPublicationId', 'CitedPublicationId'])\n",
    "\n",
    "pub2field_df = [[0, 1], [0, 2], [1, 1], [2,3], [3,2], [3,3], [4,3], \n",
    "                [11, 1], [12, 3], [13, 3], [14, 1], [15, 1], [15, 2]]\n",
    "pub2field_df = pd.DataFrame(pub2field_df, columns = ['PublicationId', 'FieldId'])\n",
    "\n",
    "pub2rs, precomputed_distance_matrix, field2int = compute_raostriling_interdisciplinarity(pub2ref_df, pub2field_df, \n",
    "                                        focus_pub_ids=None, \n",
    "                                        pub2field_norm=True, temporal=False,\n",
    "                                        citation_direction='references', field_distance_metric='cosine', \n",
    "                                        precomputed_distance_matrix=None, show_progress=False)\n",
    "\n",
    "# first lets look at the field2field distance matrix\n",
    "pub2rs\n",
    "# it was formed by 1) making a bipartite matrix of all the reference fields for each of the citing fields\n",
    "#        Field1, Field2, Field3\n",
    "# Field1 \n",
    "# Field2\n",
    "# Field3\n",
    "#print(precomputed_distance_matrix)"
   ]
  },
  {
   "cell_type": "code",
   "execution_count": 4,
   "metadata": {},
   "outputs": [],
   "source": [
    "myaps = APS(path2aps)"
   ]
  },
  {
   "cell_type": "code",
   "execution_count": 5,
   "metadata": {},
   "outputs": [
    {
     "data": {
      "application/vnd.jupyter.widget-view+json": {
       "model_id": "7dd638f84fe149598280aecbc5f1614f",
       "version_major": 2,
       "version_minor": 0
      },
      "text/plain": [
       "HBox(children=(FloatProgress(value=0.0, description='Loading Fields', max=1.0, style=ProgressStyle(description…"
      ]
     },
     "metadata": {},
     "output_type": "display_data"
    },
    {
     "name": "stdout",
     "output_type": "stream",
     "text": [
      "\n"
     ]
    },
    {
     "data": {
      "application/vnd.jupyter.widget-view+json": {
       "model_id": "3730372b61284d0590e3b1c204c0d361",
       "version_major": 2,
       "version_minor": 0
      },
      "text/plain": [
       "HBox(children=(FloatProgress(value=0.0, description='Loading pub2ref', max=1.0, style=ProgressStyle(descriptio…"
      ]
     },
     "metadata": {},
     "output_type": "display_data"
    },
    {
     "name": "stdout",
     "output_type": "stream",
     "text": [
      "\n"
     ]
    }
   ],
   "source": [
    "pub2field_df = myaps.pub2field_df\n",
    "pub2ref_df = myaps.pub2ref_df"
   ]
  },
  {
   "cell_type": "code",
   "execution_count": 6,
   "metadata": {},
   "outputs": [],
   "source": [
    "pub2rs, precomputed_distance_matrix, field2int = compute_raostriling_interdisciplinarity(pub2ref_df, pub2field_df, \n",
    "                                        focus_pub_ids=None, \n",
    "                                        pub2field_norm=True, temporal=False,\n",
    "                                        citation_direction='references', field_distance_metric='cosine', \n",
    "                                        precomputed_distance_matrix=None, show_progress=False)"
   ]
  },
  {
   "cell_type": "code",
   "execution_count": 7,
   "metadata": {},
   "outputs": [
    {
     "data": {
      "image/png": "[encoded data removed]",
      "text/plain": [
       "<Figure size 504x504 with 1 Axes>"
      ]
     },
     "metadata": {
      "needs_background": "light"
     },
     "output_type": "display_data"
    }
   ],
   "source": [
    "rsdist, rsbins = np.histogram(pub2rs['RaoStirling'].values, bins=20)\n",
    "\n",
    "fig, ax = plt.subplots(1,1,figsize=(7,7))\n",
    "\n",
    "ax.step(rsbins[:-1], rsdist)\n",
    "ax.set_title('Interdisciplinarity of References')\n",
    "ax.set_xlabel('RaoStirling')\n",
    "ax.set_ylabel('# of publications')\n",
    "plt.show()"
   ]
  },
  {
   "cell_type": "code",
   "execution_count": 8,
   "metadata": {},
   "outputs": [],
   "source": [
    "pub2rs, precomputed_distance_matrix, field2int = compute_raostriling_interdisciplinarity(pub2ref_df, pub2field_df, \n",
    "                                        focus_pub_ids=None, \n",
    "                                        pub2field_norm=True, temporal=False,\n",
    "                                        citation_direction='citations', field_distance_metric='cosine', \n",
    "                                        precomputed_distance_matrix=None, show_progress=False)"
   ]
  },
  {
   "cell_type": "code",
   "execution_count": 9,
   "metadata": {},
   "outputs": [
    {
     "data": {
      "image/png": "[encoded data removed]",
      "text/plain": [
       "<Figure size 504x504 with 1 Axes>"
      ]
     },
     "metadata": {
      "needs_background": "light"
     },
     "output_type": "display_data"
    }
   ],
   "source": [
    "rsdist, rsbins = np.histogram(pub2rs['RaoStirling'].values, bins=20)\n",
    "\n",
    "fig, ax = plt.subplots(1,1,figsize=(7,7))\n",
    "\n",
    "ax.step(rsbins[:-1], rsdist)\n",
    "ax.set_title('Interdisciplinarity of Citations')\n",
    "ax.set_xlabel('RaoStirling')\n",
    "ax.set_ylabel('# of publications')\n",
    "plt.show()"
   ]
  },
  {
   "cell_type": "code",
   "execution_count": null,
   "metadata": {},
   "outputs": [],
   "source": []
  }
 ],
 "metadata": {
  "kernelspec": {
   "display_name": "Python 3",
   "language": "python",
   "name": "python3"
  },
  "language_info": {
   "codemirror_mode": {
    "name": "ipython",
    "version": 3
   },
   "file_extension": ".py",
   "mimetype": "text/x-python",
   "name": "python",
   "nbconvert_exporter": "python",
   "pygments_lexer": "ipython3",
   "version": "3.7.3"
  }
 },
 "nbformat": 4,
 "nbformat_minor": 4
}
