{
 "cells": [
  {
   "cell_type": "code",
   "execution_count": 1,
   "metadata": {},
   "outputs": [],
   "source": [
    "%load_ext autoreload\n",
    "%autoreload 2\n",
    "\n",
    "import pyscisci.all as pyscisci\n",
    "\n",
    "import pandas as pd\n",
    "import numpy as np\n",
    "import matplotlib.pylab as plt\n",
    "try:\n",
    "    import seaborn as sns\n",
    "    sns.set_style('white')\n",
    "except:\n",
    "    pass\n",
    "\n",
    "%matplotlib inline"
   ]
  },
  {
   "cell_type": "code",
   "execution_count": 14,
   "metadata": {},
   "outputs": [],
   "source": [
    "path2mag = '/Volumes/GatesExpansionDrive/DataSets/MAG'\n",
    "path2wos = '/Volumes/GatesExpansionDrive/DataSets/WOS'\n",
    "path2dblp = '/Volumes/GatesExpansionDrive/DataSets/DBLP'\n",
    "path2aps = '/Volumes/GatesExpansionDrive/DataSets/APS/APS2019'\n"
   ]
  },
  {
   "cell_type": "code",
   "execution_count": 15,
   "metadata": {},
   "outputs": [
    {
     "data": {
      "application/vnd.jupyter.widget-view+json": {
       "model_id": "f5c5bbf0b5dd488aa1377f6de0089316",
       "version_major": 2,
       "version_minor": 0
      },
      "text/plain": [
       "HBox(children=(HTML(value='Loading Publications'), FloatProgress(value=0.0, max=1.0), HTML(value='')))"
      ]
     },
     "metadata": {},
     "output_type": "display_data"
    },
    {
     "name": "stdout",
     "output_type": "stream",
     "text": [
      "\n"
     ]
    },
    {
     "data": {
      "text/html": [
       "<div>\n",
       "<style scoped>\n",
       "    .dataframe tbody tr th:only-of-type {\n",
       "        vertical-align: middle;\n",
       "    }\n",
       "\n",
       "    .dataframe tbody tr th {\n",
       "        vertical-align: top;\n",
       "    }\n",
       "\n",
       "    .dataframe thead th {\n",
       "        text-align: right;\n",
       "    }\n",
       "</style>\n",
       "<table border=\"1\" class=\"dataframe\">\n",
       "  <thead>\n",
       "    <tr style=\"text-align: right;\">\n",
       "      <th></th>\n",
       "      <th>Year</th>\n",
       "      <th>PublicationId</th>\n",
       "      <th>JournalId</th>\n",
       "      <th>AuthorId</th>\n",
       "    </tr>\n",
       "  </thead>\n",
       "  <tbody>\n",
       "    <tr>\n",
       "      <th>0</th>\n",
       "      <td>1893</td>\n",
       "      <td>20</td>\n",
       "      <td>1</td>\n",
       "      <td>None</td>\n",
       "    </tr>\n",
       "    <tr>\n",
       "      <th>1</th>\n",
       "      <td>1894</td>\n",
       "      <td>36</td>\n",
       "      <td>1</td>\n",
       "      <td>None</td>\n",
       "    </tr>\n",
       "    <tr>\n",
       "      <th>2</th>\n",
       "      <td>1895</td>\n",
       "      <td>36</td>\n",
       "      <td>1</td>\n",
       "      <td>None</td>\n",
       "    </tr>\n",
       "    <tr>\n",
       "      <th>3</th>\n",
       "      <td>1896</td>\n",
       "      <td>36</td>\n",
       "      <td>1</td>\n",
       "      <td>None</td>\n",
       "    </tr>\n",
       "    <tr>\n",
       "      <th>4</th>\n",
       "      <td>1897</td>\n",
       "      <td>54</td>\n",
       "      <td>1</td>\n",
       "      <td>None</td>\n",
       "    </tr>\n",
       "    <tr>\n",
       "      <th>...</th>\n",
       "      <td>...</td>\n",
       "      <td>...</td>\n",
       "      <td>...</td>\n",
       "      <td>...</td>\n",
       "    </tr>\n",
       "    <tr>\n",
       "      <th>122</th>\n",
       "      <td>2015</td>\n",
       "      <td>18016</td>\n",
       "      <td>11</td>\n",
       "      <td>None</td>\n",
       "    </tr>\n",
       "    <tr>\n",
       "      <th>123</th>\n",
       "      <td>2016</td>\n",
       "      <td>18916</td>\n",
       "      <td>12</td>\n",
       "      <td>None</td>\n",
       "    </tr>\n",
       "    <tr>\n",
       "      <th>124</th>\n",
       "      <td>2017</td>\n",
       "      <td>19531</td>\n",
       "      <td>13</td>\n",
       "      <td>None</td>\n",
       "    </tr>\n",
       "    <tr>\n",
       "      <th>125</th>\n",
       "      <td>2018</td>\n",
       "      <td>19977</td>\n",
       "      <td>13</td>\n",
       "      <td>None</td>\n",
       "    </tr>\n",
       "    <tr>\n",
       "      <th>126</th>\n",
       "      <td>2019</td>\n",
       "      <td>20328</td>\n",
       "      <td>14</td>\n",
       "      <td>None</td>\n",
       "    </tr>\n",
       "  </tbody>\n",
       "</table>\n",
       "<p>127 rows × 4 columns</p>\n",
       "</div>"
      ],
      "text/plain": [
       "     Year  PublicationId  JournalId AuthorId\n",
       "0    1893             20          1     None\n",
       "1    1894             36          1     None\n",
       "2    1895             36          1     None\n",
       "3    1896             36          1     None\n",
       "4    1897             54          1     None\n",
       "..    ...            ...        ...      ...\n",
       "122  2015          18016         11     None\n",
       "123  2016          18916         12     None\n",
       "124  2017          19531         13     None\n",
       "125  2018          19977         13     None\n",
       "126  2019          20328         14     None\n",
       "\n",
       "[127 rows x 4 columns]"
      ]
     },
     "execution_count": 15,
     "metadata": {},
     "output_type": "execute_result"
    }
   ],
   "source": [
    "\n",
    "myaps = pyscisci.APS(path2aps)\n",
    "apspubs = myaps.load_publications(columns=['PublicationId', 'Year', 'JournalId'])\n",
    "\n",
    "npubs_aps = apspubs.groupby('Year')['PublicationId'].nunique().to_frame().reset_index()\n",
    "njournals_aps = apspubs.groupby('Year')['JournalId'].nunique().to_frame().reset_index()\n",
    "aps_values = npubs_aps.merge(njournals_aps, on='Year', how='left')\n",
    "aps_values['AuthorId'] = None\n",
    "aps_values"
   ]
  },
  {
   "cell_type": "code",
   "execution_count": 16,
   "metadata": {},
   "outputs": [
    {
     "data": {
      "application/vnd.jupyter.widget-view+json": {
       "model_id": "0ba6969b8a1441869ba6f500081e0e05",
       "version_major": 2,
       "version_minor": 0
      },
      "text/plain": [
       "HBox(children=(HTML(value='Loading Publications'), FloatProgress(value=0.0, max=6.0), HTML(value='')))"
      ]
     },
     "metadata": {},
     "output_type": "display_data"
    },
    {
     "name": "stdout",
     "output_type": "stream",
     "text": [
      "\n"
     ]
    },
    {
     "data": {
      "text/html": [
       "<div>\n",
       "<style scoped>\n",
       "    .dataframe tbody tr th:only-of-type {\n",
       "        vertical-align: middle;\n",
       "    }\n",
       "\n",
       "    .dataframe tbody tr th {\n",
       "        vertical-align: top;\n",
       "    }\n",
       "\n",
       "    .dataframe thead th {\n",
       "        text-align: right;\n",
       "    }\n",
       "</style>\n",
       "<table border=\"1\" class=\"dataframe\">\n",
       "  <thead>\n",
       "    <tr style=\"text-align: right;\">\n",
       "      <th></th>\n",
       "      <th>Year</th>\n",
       "      <th>PublicationId</th>\n",
       "      <th>JournalId</th>\n",
       "      <th>AuthorId</th>\n",
       "    </tr>\n",
       "  </thead>\n",
       "  <tbody>\n",
       "    <tr>\n",
       "      <th>0</th>\n",
       "      <td>0</td>\n",
       "      <td>3</td>\n",
       "      <td>1</td>\n",
       "      <td>NaN</td>\n",
       "    </tr>\n",
       "    <tr>\n",
       "      <th>1</th>\n",
       "      <td>1918</td>\n",
       "      <td>1</td>\n",
       "      <td>1</td>\n",
       "      <td>1.0</td>\n",
       "    </tr>\n",
       "    <tr>\n",
       "      <th>2</th>\n",
       "      <td>1936</td>\n",
       "      <td>12</td>\n",
       "      <td>1</td>\n",
       "      <td>8.0</td>\n",
       "    </tr>\n",
       "    <tr>\n",
       "      <th>3</th>\n",
       "      <td>1937</td>\n",
       "      <td>15</td>\n",
       "      <td>1</td>\n",
       "      <td>12.0</td>\n",
       "    </tr>\n",
       "    <tr>\n",
       "      <th>4</th>\n",
       "      <td>1938</td>\n",
       "      <td>11</td>\n",
       "      <td>2</td>\n",
       "      <td>10.0</td>\n",
       "    </tr>\n",
       "    <tr>\n",
       "      <th>...</th>\n",
       "      <td>...</td>\n",
       "      <td>...</td>\n",
       "      <td>...</td>\n",
       "      <td>...</td>\n",
       "    </tr>\n",
       "    <tr>\n",
       "      <th>83</th>\n",
       "      <td>2017</td>\n",
       "      <td>325290</td>\n",
       "      <td>1447</td>\n",
       "      <td>558911.0</td>\n",
       "    </tr>\n",
       "    <tr>\n",
       "      <th>84</th>\n",
       "      <td>2018</td>\n",
       "      <td>355119</td>\n",
       "      <td>1422</td>\n",
       "      <td>613877.0</td>\n",
       "    </tr>\n",
       "    <tr>\n",
       "      <th>85</th>\n",
       "      <td>2019</td>\n",
       "      <td>383863</td>\n",
       "      <td>1379</td>\n",
       "      <td>674824.0</td>\n",
       "    </tr>\n",
       "    <tr>\n",
       "      <th>86</th>\n",
       "      <td>2020</td>\n",
       "      <td>107064</td>\n",
       "      <td>1105</td>\n",
       "      <td>269986.0</td>\n",
       "    </tr>\n",
       "    <tr>\n",
       "      <th>87</th>\n",
       "      <td>2021</td>\n",
       "      <td>6</td>\n",
       "      <td>1</td>\n",
       "      <td>14.0</td>\n",
       "    </tr>\n",
       "  </tbody>\n",
       "</table>\n",
       "<p>88 rows × 4 columns</p>\n",
       "</div>"
      ],
      "text/plain": [
       "    Year  PublicationId  JournalId  AuthorId\n",
       "0      0              3          1       NaN\n",
       "1   1918              1          1       1.0\n",
       "2   1936             12          1       8.0\n",
       "3   1937             15          1      12.0\n",
       "4   1938             11          2      10.0\n",
       "..   ...            ...        ...       ...\n",
       "83  2017         325290       1447  558911.0\n",
       "84  2018         355119       1422  613877.0\n",
       "85  2019         383863       1379  674824.0\n",
       "86  2020         107064       1105  269986.0\n",
       "87  2021              6          1      14.0\n",
       "\n",
       "[88 rows x 4 columns]"
      ]
     },
     "execution_count": 16,
     "metadata": {},
     "output_type": "execute_result"
    }
   ],
   "source": [
    "mydblp = pyscisci.DBLP(path2dblp)\n",
    "dblppubs = mydblp.load_publications(columns=['PublicationId', 'Year', 'JournalId'])\n",
    "pub2year = {pid:y for pid, y in dblppubs[['PublicationId', 'Year']].values}\n",
    "\n",
    "npubs_dblp = dblppubs.groupby('Year')['PublicationId'].nunique().to_frame().reset_index()\n",
    "njournals_dblp = dblppubs.groupby('Year')['JournalId'].nunique().to_frame().reset_index()\n",
    "\n",
    "\n",
    "dblpauthors = mydblp.load_publicationauthor(columns=['PublicationId', 'AuthorId'],\n",
    "                                                      duplicate_subset=['PublicationId', 'AuthorId'])\n",
    "#pub2year = mydblp.pub2year\n",
    "dblpauthors['Year'] = [pub2year.get(pid, None) for pid in dblpauthors['PublicationId'].values]\n",
    "dblpauthors.dropna(inplace=True)\n",
    "\n",
    "nauthors_dblp = dblpauthors.groupby('Year')['AuthorId'].nunique().to_frame().reset_index()\n",
    "\n",
    "dblp_values = npubs_dblp.merge(njournals_dblp, how='left', on='Year')\n",
    "dblp_values = dblp_values.merge(nauthors_dblp, how='left', on='Year')\n",
    "dblp_values\n"
   ]
  },
  {
   "cell_type": "code",
   "execution_count": 6,
   "metadata": {},
   "outputs": [
    {
     "data": {
      "application/vnd.jupyter.widget-view+json": {
       "model_id": "619afe504e594222be0a1e79e889b6ae",
       "version_major": 2,
       "version_minor": 0
      },
      "text/plain": [
       "HBox(children=(HTML(value='Loading Publications'), FloatProgress(value=0.0, max=47.0), HTML(value='')))"
      ]
     },
     "metadata": {},
     "output_type": "display_data"
    },
    {
     "name": "stdout",
     "output_type": "stream",
     "text": [
      "\n"
     ]
    }
   ],
   "source": [
    "mymag = pyscisci.MAG(path2mag)\n",
    "magpubs = mymag.load_publications(columns=['PublicationId', 'Year', 'JournalId'])\n",
    "pub2year = {pid:y for pid, y in magpubs[['PublicationId', 'Year']].values}\n",
    "\n",
    "npubs_mag = magpubs.groupby('Year')['PublicationId'].nunique()\n",
    "njournals_mag = magpubs.groupby('Year')['JournalId'].nunique()\n"
   ]
  },
  {
   "cell_type": "code",
   "execution_count": 7,
   "metadata": {},
   "outputs": [
    {
     "data": {
      "application/vnd.jupyter.widget-view+json": {
       "model_id": "1463d4924cc04272bebce39859ba8bca",
       "version_major": 2,
       "version_minor": 0
      },
      "text/plain": [
       "HBox(children=(HTML(value='Loading Publication Author Affiliation'), FloatProgress(value=0.0, max=63.0), HTML(…"
      ]
     },
     "metadata": {},
     "output_type": "display_data"
    },
    {
     "name": "stdout",
     "output_type": "stream",
     "text": [
      "\n"
     ]
    }
   ],
   "source": [
    "magauthors = mymag.load_publicationauthoraffiliation(columns=['PublicationId', 'AuthorId'],\n",
    "                                                      duplicate_subset=['PublicationId', 'AuthorId'])\n",
    "#pub2year = mydblp.pub2year\n",
    "magauthors['Year'] = [pub2year.get(pid, None) for pid in magauthors['PublicationId'].values]\n",
    "magauthors.dropna(inplace=True)\n",
    "\n",
    "nauthors_mag = magauthors.groupby('Year')['AuthorId'].nunique()\n",
    "\n"
   ]
  },
  {
   "cell_type": "code",
   "execution_count": 8,
   "metadata": {},
   "outputs": [],
   "source": [
    "if False:\n",
    "    mywos = pyscisci.WOS(path2wos)\n",
    "    magpubs = mywos.load_publications(columns=['PublicationId', 'Year', 'JournalId'])\n",
    "    pub2year = {pid:y for pid, y in magpubs[['PublicationId', 'Year']].values}\n",
    "\n",
    "    npubs_wos = magpubs.groupby('Year')['PublicationId'].nunique()\n",
    "    njournals_wos = magpubs.groupby('Year')['JournalId'].nunique()\n",
    "    \n",
    "    wosauthors = mywos.load_publicationauthoraffiliation(columns=['PublicationId', 'AuthorId'],\n",
    "                                                      duplicate_subset=['PublicationId', 'AuthorId'])\n",
    "\n",
    "    wosauthors['Year'] = [pub2year.get(pid, None) for pid in wosauthors['PublicationId'].values]\n",
    "    wosauthors.dropna(inplace=True)\n",
    "\n",
    "    nauthors_wos = wosauthors.groupby('Year')['AuthorId'].nunique()\n",
    "\n",
    "wospubs = pd.read_hdf('/Users/ajgates/Documents/WOSyearlysize.hdf')\n",
    "npubs_wos = pd.Series(wospubs['NumPubs'].values, index=wospubs['PubYear'].values)\n",
    "njournals_wos = pd.Series(wospubs['NumJournals'].values, index=wospubs['PubYear'].values)\n",
    "nauthors_wos = pd.Series(wospubs['NumAuthors'].values, index=wospubs['PubYear'].values)\n"
   ]
  },
  {
   "cell_type": "code",
   "execution_count": 13,
   "metadata": {},
   "outputs": [
    {
     "ename": "IndexError",
     "evalue": "boolean index did not match indexed array along dimension 0; dimension is 87 but corresponding boolean dimension is 88",
     "output_type": "error",
     "traceback": [
      "\u001b[0;31m---------------------------------------------------------------------------\u001b[0m",
      "\u001b[0;31mIndexError\u001b[0m                                Traceback (most recent call last)",
      "\u001b[0;32m<ipython-input-13-b71b5ceeae43>\u001b[0m in \u001b[0;36m<module>\u001b[0;34m\u001b[0m\n\u001b[1;32m      4\u001b[0m \u001b[0max\u001b[0m\u001b[0;34m[\u001b[0m\u001b[0;36m0\u001b[0m\u001b[0;34m]\u001b[0m\u001b[0;34m.\u001b[0m\u001b[0mplot\u001b[0m\u001b[0;34m(\u001b[0m\u001b[0mnpubs_dblp\u001b[0m\u001b[0;34m.\u001b[0m\u001b[0mindex\u001b[0m\u001b[0;34m.\u001b[0m\u001b[0mvalues\u001b[0m\u001b[0;34m[\u001b[0m\u001b[0myears\u001b[0m\u001b[0;34m]\u001b[0m\u001b[0;34m,\u001b[0m \u001b[0mnpubs_dblp\u001b[0m\u001b[0;34m.\u001b[0m\u001b[0mvalues\u001b[0m\u001b[0;34m[\u001b[0m\u001b[0myears\u001b[0m\u001b[0;34m]\u001b[0m\u001b[0;34m,\u001b[0m \u001b[0mlw\u001b[0m\u001b[0;34m=\u001b[0m\u001b[0;36m2\u001b[0m\u001b[0;34m,\u001b[0m \u001b[0mcolor\u001b[0m\u001b[0;34m=\u001b[0m\u001b[0mdblp_color\u001b[0m\u001b[0;34m,\u001b[0m \u001b[0mlabel\u001b[0m\u001b[0;34m=\u001b[0m\u001b[0;34m'DBLP'\u001b[0m\u001b[0;34m)\u001b[0m\u001b[0;34m\u001b[0m\u001b[0;34m\u001b[0m\u001b[0m\n\u001b[1;32m      5\u001b[0m \u001b[0max\u001b[0m\u001b[0;34m[\u001b[0m\u001b[0;36m1\u001b[0m\u001b[0;34m]\u001b[0m\u001b[0;34m.\u001b[0m\u001b[0mplot\u001b[0m\u001b[0;34m(\u001b[0m\u001b[0mnjournals_dblp\u001b[0m\u001b[0;34m.\u001b[0m\u001b[0mindex\u001b[0m\u001b[0;34m.\u001b[0m\u001b[0mvalues\u001b[0m\u001b[0;34m[\u001b[0m\u001b[0myears\u001b[0m\u001b[0;34m]\u001b[0m\u001b[0;34m,\u001b[0m \u001b[0mnjournals_dblp\u001b[0m\u001b[0;34m.\u001b[0m\u001b[0mvalues\u001b[0m\u001b[0;34m[\u001b[0m\u001b[0myears\u001b[0m\u001b[0;34m]\u001b[0m\u001b[0;34m,\u001b[0m \u001b[0mlw\u001b[0m\u001b[0;34m=\u001b[0m\u001b[0;36m2\u001b[0m\u001b[0;34m,\u001b[0m \u001b[0mcolor\u001b[0m\u001b[0;34m=\u001b[0m\u001b[0mdblp_color\u001b[0m\u001b[0;34m)\u001b[0m\u001b[0;34m\u001b[0m\u001b[0;34m\u001b[0m\u001b[0m\n\u001b[0;32m----> 6\u001b[0;31m \u001b[0max\u001b[0m\u001b[0;34m[\u001b[0m\u001b[0;36m2\u001b[0m\u001b[0;34m]\u001b[0m\u001b[0;34m.\u001b[0m\u001b[0mplot\u001b[0m\u001b[0;34m(\u001b[0m\u001b[0mnauthors_dblp\u001b[0m\u001b[0;34m.\u001b[0m\u001b[0mindex\u001b[0m\u001b[0;34m.\u001b[0m\u001b[0mvalues\u001b[0m\u001b[0;34m[\u001b[0m\u001b[0myears\u001b[0m\u001b[0;34m]\u001b[0m\u001b[0;34m,\u001b[0m \u001b[0mnauthors_dblp\u001b[0m\u001b[0;34m.\u001b[0m\u001b[0mvalues\u001b[0m\u001b[0;34m[\u001b[0m\u001b[0myears\u001b[0m\u001b[0;34m]\u001b[0m\u001b[0;34m,\u001b[0m \u001b[0mlw\u001b[0m\u001b[0;34m=\u001b[0m\u001b[0;36m2\u001b[0m\u001b[0;34m,\u001b[0m \u001b[0mcolor\u001b[0m\u001b[0;34m=\u001b[0m\u001b[0mdblp_color\u001b[0m\u001b[0;34m)\u001b[0m\u001b[0;34m\u001b[0m\u001b[0;34m\u001b[0m\u001b[0m\n\u001b[0m\u001b[1;32m      7\u001b[0m \u001b[0;34m\u001b[0m\u001b[0m\n\u001b[1;32m      8\u001b[0m \u001b[0max\u001b[0m\u001b[0;34m[\u001b[0m\u001b[0;36m0\u001b[0m\u001b[0;34m]\u001b[0m\u001b[0;34m.\u001b[0m\u001b[0mplot\u001b[0m\u001b[0;34m(\u001b[0m\u001b[0mnpubs_aps\u001b[0m\u001b[0;34m.\u001b[0m\u001b[0mindex\u001b[0m\u001b[0;34m.\u001b[0m\u001b[0mvalues\u001b[0m\u001b[0;34m,\u001b[0m \u001b[0mnpubs_aps\u001b[0m\u001b[0;34m.\u001b[0m\u001b[0mvalues\u001b[0m\u001b[0;34m,\u001b[0m \u001b[0mcolor\u001b[0m\u001b[0;34m=\u001b[0m\u001b[0maps_color\u001b[0m\u001b[0;34m,\u001b[0m \u001b[0mlabel\u001b[0m\u001b[0;34m=\u001b[0m\u001b[0;34m'APS'\u001b[0m\u001b[0;34m)\u001b[0m\u001b[0;34m\u001b[0m\u001b[0;34m\u001b[0m\u001b[0m\n",
      "\u001b[0;31mIndexError\u001b[0m: boolean index did not match indexed array along dimension 0; dimension is 87 but corresponding boolean dimension is 88"
     ]
    },
    {
     "data": {
      "image/png": "[encoded data removed]",
      "text/plain": [
       "<Figure size 432x864 with 3 Axes>"
      ]
     },
     "metadata": {
      "needs_background": "light"
     },
     "output_type": "display_data"
    }
   ],
   "source": [
    "dblp_color = '#7A82AB'\n",
    "aps_color = '#307473'\n",
    "mag_color = '#12664F'\n",
    "wos_color = '#2DC2BD'\n",
    "\n",
    "fig, ax = plt.subplots(3, 1, figsize=(6, 12))\n",
    "\n",
    "years = npubs_dblp.index.values <= 2017\n",
    "ax[0].plot(npubs_dblp.index.values[years], npubs_dblp.values[years], lw=2, color=dblp_color, label='DBLP')\n",
    "ax[1].plot(njournals_dblp.index.values[years], njournals_dblp.values[years], lw=2, color=dblp_color)\n",
    "ax[2].plot(nauthors_dblp.index.values[years], nauthors_dblp.values[years], lw=2, color=dblp_color)\n",
    "\n",
    "ax[0].plot(npubs_aps.index.values, npubs_aps.values, color=aps_color, label='APS')\n",
    "ax[1].plot(njournals_aps.index.values, njournals_aps.values, color=aps_color)\n",
    "\n",
    "\n",
    "ax[0].plot(npubs_mag.index.values, npubs_mag.values, color=mag_color, label='MAG')\n",
    "ax[1].plot(njournals_mag.index.values, njournals_mag.values, color=mag_color)\n",
    "ax[2].plot(nauthors_mag.index.values, nauthors_mag.values, color=mag_color)\n",
    "\n",
    "ax[0].plot(npubs_wos.index.values, npubs_wos.values, color=wos_color, label='WOS')\n",
    "ax[1].plot(njournals_wos.index.values, njournals_wos.values, color=wos_color)\n",
    "ax[2].plot(nauthors_wos.index.values, nauthors_wos.values, color=wos_color)\n",
    "\n",
    "ax[0].set_ylabel('Number of publications')\n",
    "ax[1].set_ylabel('Number of journals')\n",
    "ax[2].set_ylabel('Number of authors')\n",
    "\n",
    "handles, labels = ax[0].get_legend_handles_labels()\n",
    "ax[0].legend(handles, labels)\n",
    "\n",
    "for iax in range(3):\n",
    "    ax[iax].set_yscale('log')\n",
    "    \n",
    "    ax[iax].set_xlim([1800, 2020])\n",
    "\n",
    "for iax in [0,2]:\n",
    "    ax[iax].set_yticks([10**0, 10**2, 10**4, 10**6])\n",
    "\n",
    "plt.savefig('DatabaseGrowth.pdf')\n",
    "plt.show()"
   ]
  },
  {
   "cell_type": "code",
   "execution_count": null,
   "metadata": {},
   "outputs": [],
   "source": []
  }
 ],
 "metadata": {
  "kernelspec": {
   "display_name": "Python 3",
   "language": "python",
   "name": "python3"
  },
  "language_info": {
   "codemirror_mode": {
    "name": "ipython",
    "version": 3
   },
   "file_extension": ".py",
   "mimetype": "text/x-python",
   "name": "python",
   "nbconvert_exporter": "python",
   "pygments_lexer": "ipython3",
   "version": "3.9.0"
  }
 },
 "nbformat": 4,
 "nbformat_minor": 4
}
