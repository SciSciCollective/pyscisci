{
 "cells": [
  {
   "cell_type": "code",
   "execution_count": 1,
   "metadata": {},
   "outputs": [],
   "source": [
    "%matplotlib inline\n",
    "\n",
    "import os\n",
    "import numpy as np\n",
    "import pandas as pd\n",
    "import networkx as nx\n",
    "\n",
    "from collections import defaultdict\n",
    "\n",
    "import scipy.sparse as spsparse\n",
    "import matplotlib.pylab as plt\n",
    "\n",
    "\n",
    "import pyscisci.all as pyscisci\n",
    "\n"
   ]
  },
  {
   "cell_type": "code",
   "execution_count": 2,
   "metadata": {},
   "outputs": [],
   "source": [
    "path2aps = '/home/ajgates/APS'\n",
    "path2aps = '/Volumes/GatesExpansionDrive/DataSets/APS/APS2019'\n",
    "\n",
    "myaps = pyscisci.APS(path2aps, keep_in_memory=False) \n",
    "\n",
    "#myaps.download_from_source(files_to_download='paa_supplement')"
   ]
  },
  {
   "cell_type": "code",
   "execution_count": 3,
   "metadata": {},
   "outputs": [
    {
     "data": {
      "application/vnd.jupyter.widget-view+json": {
       "model_id": "93b66db53d1f4a81b95471e8228ab40d",
       "version_major": 2,
       "version_minor": 0
      },
      "text/plain": [
       "HBox(children=(HTML(value='Loading Publications'), FloatProgress(value=0.0, max=1.0), HTML(value='')))"
      ]
     },
     "metadata": {},
     "output_type": "display_data"
    },
    {
     "name": "stdout",
     "output_type": "stream",
     "text": [
      "\n"
     ]
    },
    {
     "data": {
      "application/vnd.jupyter.widget-view+json": {
       "model_id": "e4004b8b87674f55b20f1535fe67c415",
       "version_major": 2,
       "version_minor": 0
      },
      "text/plain": [
       "HBox(children=(HTML(value='Loading pub2ref'), FloatProgress(value=0.0, max=1.0), HTML(value='')))"
      ]
     },
     "metadata": {},
     "output_type": "display_data"
    },
    {
     "name": "stdout",
     "output_type": "stream",
     "text": [
      "\n"
     ]
    },
    {
     "data": {
      "application/vnd.jupyter.widget-view+json": {
       "model_id": "671f4f274f0f4b939b3114c2753a260a",
       "version_major": 2,
       "version_minor": 0
      },
      "text/plain": [
       "HBox(children=(HTML(value='Loading Publication Author Affiliation'), FloatProgress(value=0.0, max=1.0), HTML(v…"
      ]
     },
     "metadata": {},
     "output_type": "display_data"
    },
    {
     "name": "stdout",
     "output_type": "stream",
     "text": [
      "\n"
     ]
    }
   ],
   "source": [
    "pub_df = myaps.pub_df\n",
    "\n",
    "# limit the publications to those published on/before 1966 \n",
    "pub_df = pub_df.loc[pub_df['Year'] <= 1966]\n",
    "\n",
    "# get their references\n",
    "pub2ref_df = myaps.load_references(filter_dict={'CitingPublicationId':np.sort(pub_df['PublicationId'].unique())})\n",
    "\n",
    "# and get their authors\n",
    "pub2author_df = myaps.load_publicationauthoraffiliation(columns = ['PublicationId', 'AuthorId', 'FullName'],\n",
    "    filter_dict={'PublicationId':np.sort(pub_df['PublicationId'].unique())})\n",
    "  \n",
    "aid2name = {aid:name for aid, name in pub2author_df[['AuthorId', 'FullName']].values}\n",
    "del pub2author_df['FullName']"
   ]
  },
  {
   "cell_type": "code",
   "execution_count": 4,
   "metadata": {},
   "outputs": [
    {
     "ename": "NameError",
     "evalue": "name 'groupby_total' is not defined",
     "output_type": "error",
     "traceback": [
      "\u001b[0;31m---------------------------------------------------------------------------\u001b[0m",
      "\u001b[0;31mNameError\u001b[0m                                 Traceback (most recent call last)",
      "\u001b[0;32m<ipython-input-4-ce0f37b7668c>\u001b[0m in \u001b[0;36m<module>\u001b[0;34m\u001b[0m\n\u001b[0;32m----> 1\u001b[0;31m sc, author2int = pyscisci.diffusion_of_scientific_credit(pub2ref_df, pub2author_df, \n\u001b[0m\u001b[1;32m      2\u001b[0m                                         pub_df=pub_df, alpha = 0.9, max_iter = 100, tol = 1.0e-10)\n\u001b[1;32m      3\u001b[0m \u001b[0;34m\u001b[0m\u001b[0m\n\u001b[1;32m      4\u001b[0m \u001b[0mint2aid\u001b[0m \u001b[0;34m=\u001b[0m \u001b[0;34m{\u001b[0m\u001b[0mi\u001b[0m\u001b[0;34m:\u001b[0m\u001b[0maid\u001b[0m \u001b[0;32mfor\u001b[0m \u001b[0maid\u001b[0m\u001b[0;34m,\u001b[0m \u001b[0mi\u001b[0m \u001b[0;32min\u001b[0m \u001b[0mauthor2int\u001b[0m\u001b[0;34m.\u001b[0m\u001b[0mitems\u001b[0m\u001b[0;34m(\u001b[0m\u001b[0;34m)\u001b[0m\u001b[0;34m}\u001b[0m\u001b[0;34m\u001b[0m\u001b[0;34m\u001b[0m\u001b[0m\n\u001b[1;32m      5\u001b[0m \u001b[0;34m\u001b[0m\u001b[0m\n",
      "\u001b[0;32m~/Documents/GitHub/pyscisci/pyscisci/metrics/diffusionscientificcredit.py\u001b[0m in \u001b[0;36mdiffusion_of_scientific_credit\u001b[0;34m(pub2ref_df, pub2author_df, pub_df, alpha, max_iter, tol)\u001b[0m\n\u001b[1;32m    104\u001b[0m     \u001b[0;31m# make the weighted productivity vector to intialize the pagerank\u001b[0m\u001b[0;34m\u001b[0m\u001b[0;34m\u001b[0m\u001b[0;34m\u001b[0m\u001b[0m\n\u001b[1;32m    105\u001b[0m     \u001b[0mpub2author_df\u001b[0m\u001b[0;34m[\u001b[0m\u001b[0;34m'AuthorCredit'\u001b[0m\u001b[0;34m]\u001b[0m \u001b[0;34m=\u001b[0m \u001b[0;34m[\u001b[0m\u001b[0;36m1\u001b[0m\u001b[0;34m/\u001b[0m\u001b[0mteamsize\u001b[0m\u001b[0;34m.\u001b[0m\u001b[0mget\u001b[0m\u001b[0;34m(\u001b[0m\u001b[0mpid\u001b[0m\u001b[0;34m,\u001b[0m \u001b[0;36m1\u001b[0m\u001b[0;34m)\u001b[0m \u001b[0;32mfor\u001b[0m \u001b[0mpid\u001b[0m \u001b[0;32min\u001b[0m \u001b[0mpub2author_df\u001b[0m\u001b[0;34m[\u001b[0m\u001b[0;34m'PublicationId'\u001b[0m\u001b[0;34m]\u001b[0m\u001b[0;34m.\u001b[0m\u001b[0mvalues\u001b[0m\u001b[0;34m]\u001b[0m\u001b[0;34m\u001b[0m\u001b[0;34m\u001b[0m\u001b[0m\n\u001b[0;32m--> 106\u001b[0;31m     \u001b[0mweighted_productivity\u001b[0m \u001b[0;34m=\u001b[0m \u001b[0mgroupby_total\u001b[0m\u001b[0;34m(\u001b[0m\u001b[0mpub2author_df\u001b[0m\u001b[0;34m,\u001b[0m \u001b[0mcolgroupby\u001b[0m \u001b[0;34m=\u001b[0m \u001b[0;34m'AuthorId'\u001b[0m\u001b[0;34m,\u001b[0m \u001b[0mcolcountby\u001b[0m \u001b[0;34m=\u001b[0m \u001b[0;34m'AuthorCredit'\u001b[0m\u001b[0;34m)\u001b[0m\u001b[0;34m.\u001b[0m\u001b[0msort_values\u001b[0m\u001b[0;34m(\u001b[0m\u001b[0;34m'AuthorId'\u001b[0m\u001b[0;34m)\u001b[0m\u001b[0;34m\u001b[0m\u001b[0;34m\u001b[0m\u001b[0m\n\u001b[0m\u001b[1;32m    107\u001b[0m     \u001b[0;31m# norm vector\u001b[0m\u001b[0;34m\u001b[0m\u001b[0;34m\u001b[0m\u001b[0;34m\u001b[0m\u001b[0m\n\u001b[1;32m    108\u001b[0m     \u001b[0mweighted_productivity\u001b[0m\u001b[0;34m[\u001b[0m\u001b[0;34m'AuthorCreditTotal'\u001b[0m\u001b[0;34m]\u001b[0m \u001b[0;34m=\u001b[0m \u001b[0mweighted_productivity\u001b[0m\u001b[0;34m[\u001b[0m\u001b[0;34m'AuthorCreditTotal'\u001b[0m\u001b[0;34m]\u001b[0m \u001b[0;34m/\u001b[0m \u001b[0mweighted_productivity\u001b[0m\u001b[0;34m[\u001b[0m\u001b[0;34m'AuthorCreditTotal'\u001b[0m\u001b[0;34m]\u001b[0m\u001b[0;34m.\u001b[0m\u001b[0msum\u001b[0m\u001b[0;34m(\u001b[0m\u001b[0;34m)\u001b[0m\u001b[0;34m\u001b[0m\u001b[0;34m\u001b[0m\u001b[0m\n",
      "\u001b[0;31mNameError\u001b[0m: name 'groupby_total' is not defined"
     ]
    }
   ],
   "source": [
    "sc, author2int = pyscisci.diffusion_of_scientific_credit(pub2ref_df, pub2author_df, \n",
    "                                        pub_df=pub_df, alpha = 0.9, max_iter = 100, tol = 1.0e-10)\n",
    "\n",
    "int2aid = {i:aid for aid, i in author2int.items()}\n",
    "\n",
    "print(sc.shape)"
   ]
  },
  {
   "cell_type": "code",
   "execution_count": null,
   "metadata": {},
   "outputs": [],
   "source": [
    "# print the top k authors\n",
    "topk = 10\n",
    "\n",
    "topk_authors = np.argpartition(sc, -topk)[-topk:]\n",
    "topk_authors = topk_authors[np.argsort(sc[topk_authors])][::-1]\n",
    "\n",
    "for int_id in topk_authors:\n",
    "    print(aid2name[int2aid[int_id]], sc[int_id])\n"
   ]
  },
  {
   "cell_type": "code",
   "execution_count": null,
   "metadata": {},
   "outputs": [],
   "source": []
  }
 ],
 "metadata": {
  "kernelspec": {
   "display_name": "Python 3",
   "language": "python",
   "name": "python3"
  },
  "language_info": {
   "codemirror_mode": {
    "name": "ipython",
    "version": 3
   },
   "file_extension": ".py",
   "mimetype": "text/x-python",
   "name": "python",
   "nbconvert_exporter": "python",
   "pygments_lexer": "ipython3",
   "version": "3.9.0"
  }
 },
 "nbformat": 4,
 "nbformat_minor": 4
}
