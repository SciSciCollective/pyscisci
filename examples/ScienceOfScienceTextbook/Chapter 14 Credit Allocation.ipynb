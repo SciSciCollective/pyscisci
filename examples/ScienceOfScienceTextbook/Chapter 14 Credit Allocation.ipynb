{
 "cells": [
  {
   "cell_type": "markdown",
   "metadata": {},
   "source": [
    "## Chapter 14: Credit Allocation\n",
    "\n",
    "Note: Here we use the APS dataset with the author disambiguation used in Sinatra et al (2016)."
   ]
  },
  {
   "cell_type": "code",
   "execution_count": null,
   "metadata": {},
   "outputs": [],
   "source": [
    "# headers\n",
    "import pyscisci.all as pyscisci\n",
    "\n",
    "import numpy as np\n",
    "import scipy.stats as spstats\n",
    "\n",
    "import matplotlib.pylab as plt\n",
    "%matplotlib inline\n",
    "\n",
    "\n",
    "\n",
    "# some useful functions and definitions\n",
    "red_color = '#f27c96'\n",
    "lightblue_color = '#7cd0ea'\n",
    "darkblue_color = '#154959'\n",
    "green_color = '#93d0aa'"
   ]
  },
  {
   "cell_type": "code",
   "execution_count": null,
   "metadata": {},
   "outputs": [],
   "source": []
  },
  {
   "cell_type": "code",
   "execution_count": null,
   "metadata": {},
   "outputs": [],
   "source": [
    "# Experimental observation of isolated large transverse energy electrons\n",
    "# with associated missing energy at $\\sqrt s$ = 540 GeV\n",
    "fig14_1_focus_publicationid = 1674199955\n",
    "\n",
    "# A novel stereospecific alkenyl-alkenyl cross-coupling by a palladium- or nickel-catalyzed \n",
    "# reaction of alkenylalanes with alkenyl halides \n",
    "fig14_2b_publicationid = 2047184383\n",
    "\n",
    "# Electric Field Effect in Atomically Thin Carbon Films  \n",
    "fig14_2c_publicationid = 2058122340"
   ]
  }
 ],
 "metadata": {
  "kernelspec": {
   "display_name": "Python 3",
   "language": "python",
   "name": "python3"
  },
  "language_info": {
   "codemirror_mode": {
    "name": "ipython",
    "version": 3
   },
   "file_extension": ".py",
   "mimetype": "text/x-python",
   "name": "python",
   "nbconvert_exporter": "python",
   "pygments_lexer": "ipython3",
   "version": "3.9.0"
  }
 },
 "nbformat": 4,
 "nbformat_minor": 4
}
