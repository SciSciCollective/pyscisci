{
 "cells": [
  {
   "cell_type": "code",
   "execution_count": 1,
   "metadata": {},
   "outputs": [
    {
     "name": "stdout",
     "output_type": "stream",
     "text": [
      "Using matplotlib backend: <object object at 0x144d571f0>\n"
     ]
    }
   ],
   "source": [
    "\n",
    "import pyscisci.all as pyscisci\n",
    "\n",
    "import os\n",
    "import pandas as pd\n",
    "import numpy as np\n",
    "import matplotlib.pylab as plt\n",
    "\n",
    "\n",
    "%matplotlib"
   ]
  },
  {
   "cell_type": "code",
   "execution_count": 2,
   "metadata": {},
   "outputs": [],
   "source": [
    "# set this path to where the MAG database will be stored\n",
    "path2mag = '/home/ajgates/MAG'\n"
   ]
  },
  {
   "cell_type": "code",
   "execution_count": 3,
   "metadata": {},
   "outputs": [],
   "source": [
    "mymag = pyscisci.MAG(path2mag, database_extension='csv.gz', keep_in_memory=False) \n",
    "# set keep_in_memory=False if you want to load the database each time its needed - good for when you \n",
    "# cant keep more than one database in memory at a time\n",
    "# otherwise keep_in_memory=True will keep each database in memory after its loaded"
   ]
  },
  {
   "cell_type": "code",
   "execution_count": 5,
   "metadata": {},
   "outputs": [
    {
     "data": {
      "application/vnd.jupyter.widget-view+json": {
       "model_id": "5ffa7040ce9b429e8be61b011ed0ad1d",
       "version_major": 2,
       "version_minor": 0
      },
      "text/plain": [
       "Journals:   0%|          | 0.00/6.25M [00:00<?, ?iB/s]"
      ]
     },
     "metadata": {},
     "output_type": "display_data"
    },
    {
     "data": {
      "application/vnd.jupyter.widget-view+json": {
       "model_id": "c216a25aeddc4731bbe32837225b8162",
       "version_major": 2,
       "version_minor": 0
      },
      "text/plain": [
       "Publications:   0%|          | 0.00/76.1G [00:00<?, ?iB/s]"
      ]
     },
     "metadata": {},
     "output_type": "display_data"
    },
    {
     "data": {
      "application/vnd.jupyter.widget-view+json": {
       "model_id": "cf8c94c726364edea6243cc2db6f4f51",
       "version_major": 2,
       "version_minor": 0
      },
      "text/plain": [
       "References:   0%|          | 0.00/39.5G [00:00<?, ?iB/s]"
      ]
     },
     "metadata": {},
     "output_type": "display_data"
    },
    {
     "data": {
      "application/vnd.jupyter.widget-view+json": {
       "model_id": "582ebe6b280c477fa1775d2e19ca0186",
       "version_major": 2,
       "version_minor": 0
      },
      "text/plain": [
       "PaperAuthorAffiliations:   0%|          | 0.00/54.4G [00:00<?, ?iB/s]"
      ]
     },
     "metadata": {},
     "output_type": "display_data"
    },
    {
     "data": {
      "application/vnd.jupyter.widget-view+json": {
       "model_id": "891ca8e8b6fb44d0976984c2f233ac12",
       "version_major": 2,
       "version_minor": 0
      },
      "text/plain": [
       "PaperFieldsOfStudy:   0%|          | 0.00/48.5G [00:00<?, ?iB/s]"
      ]
     },
     "metadata": {},
     "output_type": "display_data"
    }
   ],
   "source": [
    "# before we can start running our analysis, we have to preprocess the raw data into\n",
    "# DataFrames that are more convinent to work with\n",
    "\n",
    "# we only need to run this for the first time, but it will take awhile\n",
    "mymag.preprocess(dflist=['publication', 'reference', 'publicationauthoraffiliation', 'fields'])"
   ]
  },
  {
   "cell_type": "code",
   "execution_count": null,
   "metadata": {},
   "outputs": [],
   "source": [
    "# MAG contains the following dataframes:\n",
    "\n",
    "# pub  - keeps all of the publication information\n",
    "# columns : ['PublicationId', 'Year', 'JournalId', 'FamilyId',  'Doi', 'Title', 'Date', 'Volume', 'Issue', 'DocType']\n",
    "\n",
    "# author  - keeps all of the author information\n",
    "# columns : ['AuthorId', 'FullName', 'LastName', 'FirstName', 'MiddleName']\n",
    "\n",
    "# pub2ref  - links publications to their references or citations\n",
    "# columns : ['CitingPublicationId', 'CitedPublicationId']\n",
    "\n",
    "# paa  - links publications, authors, and affiliations\n",
    "# columns : ['PublicationId', 'AuthorId', 'AffiliationId', 'AuthorSequence',  'OrigAuthorName', 'OrigAffiliationName']\n",
    "\n",
    "# author2pub  - links the authors to their publications\n",
    "# columns : ['PublicationId', 'AuthorId', 'AuthorOrder']\n",
    "\n",
    "# field  - field information\n",
    "# columns : ['FieldId', 'FieldLevel', 'NumberPublications', 'FieldName']\n",
    "\n",
    "# pub2field  - links publications to their fields\n",
    "# columns : ['PublicationId', 'FieldId']\n",
    "\n",
    "# affiliation  - affiliation information\n",
    "# columns : ['AffiliationId', 'NumberPublications', 'NumberCitations', 'FullName', 'GridId', 'OfficialPage', 'WikiPage', 'Latitude', 'Longitude']\n",
    "\n",
    "# journal  - journal information\n",
    "# columns : ['JournalId', 'FullName', 'Issn', 'Publisher', 'Webpage']\n",
    "\n",
    "\n",
    "# after additional processing, these DataFrames become available\n",
    "\n",
    "# pub2refnoself  - links publications to their references or citations with self-citations removed\n",
    "# columns : ['CitingPublicationId', 'CitedPublicationId']\n",
    "\n",
    "# impact  - precomputed citation counts, columns will depend on which counts are computed\n",
    "# columns : ['PublicationId', 'Year', ....]"
   ]
  },
  {
   "cell_type": "code",
   "execution_count": null,
   "metadata": {},
   "outputs": [],
   "source": [
    "# lets plot the number of publications each year\n",
    "\n",
    "# first load the publication dataframe\n",
    "pub  = mymag.pub \n",
    "\n",
    "# then \n",
    "yearly_articles = pyscisci.groupby_count(df=pub , colgroupby='Year', colcountby='PublicationId', count_unique=True)\n",
    "yearly_articles.sort_values(by='Year', inplace=True)\n",
    "yearly_articles = yearly_articles.loc[yearly_articles['Year'] > 0]\n",
    "\n",
    "fig, ax = plt.subplots(1,1,figsize=(8,5))\n",
    "\n",
    "ax.plot(yearly_articles['Year'],yearly_articles['PublicationIdCount'])\n",
    "\n",
    "ax.set_xlabel('Year')\n",
    "ax.set_ylabel(\"# of publications\")\n",
    "ax.set_yscale('log')\n",
    "\n",
    "plt.show()"
   ]
  },
  {
   "cell_type": "code",
   "execution_count": null,
   "metadata": {},
   "outputs": [],
   "source": [
    "# now we can see the distribution of author productivity \n",
    "\n",
    "pa  = mymag.author2pub  # publication author relationships\n",
    "\n",
    "author_prod = pyscisci.author_productivity(pa , colgroupby = 'AuthorId', colcountby = 'PublicationId')\n",
    "\n",
    "prodvalues, prodcounts = np.unique(author_prod['Productivity'].values, return_counts=True)\n",
    "\n",
    "fig, ax = plt.subplots(1,1,figsize=(8,5))\n",
    "\n",
    "ax.scatter(prodvalues, prodcounts)\n",
    "\n",
    "ax.set_xlabel('Productivity')\n",
    "ax.set_ylabel(\"# of authors\")\n",
    "ax.set_xscale('log')\n",
    "ax.set_yscale('log')\n",
    "\n",
    "plt.show()"
   ]
  },
  {
   "cell_type": "code",
   "execution_count": null,
   "metadata": {},
   "outputs": [],
   "source": []
  }
 ],
 "metadata": {
  "kernelspec": {
   "display_name": "Python 3 (ipykernel)",
   "language": "python",
   "name": "python3"
  },
  "language_info": {
   "codemirror_mode": {
    "name": "ipython",
    "version": 3
   },
   "file_extension": ".py",
   "mimetype": "text/x-python",
   "name": "python",
   "nbconvert_exporter": "python",
   "pygments_lexer": "ipython3",
   "version": "3.10.8"
  }
 },
 "nbformat": 4,
 "nbformat_minor": 2
}
