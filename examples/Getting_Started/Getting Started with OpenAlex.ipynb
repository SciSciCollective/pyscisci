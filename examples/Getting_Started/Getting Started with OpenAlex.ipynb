{
 "cells": [
  {
   "cell_type": "code",
   "execution_count": 1,
   "id": "33b4cb14",
   "metadata": {},
   "outputs": [],
   "source": [
    "%load_ext autoreload\n",
    "%autoreload 2\n",
    "%matplotlib inline"
   ]
  },
  {
   "cell_type": "code",
   "execution_count": 2,
   "id": "874e645e",
   "metadata": {},
   "outputs": [],
   "source": [
    "\n",
    "import pyscisci.all as pyscisci\n",
    "\n",
    "import os\n",
    "import pandas as pd\n",
    "import numpy as np\n",
    "import matplotlib.pylab as plt\n",
    "\n"
   ]
  },
  {
   "cell_type": "code",
   "execution_count": 3,
   "id": "122e3e61",
   "metadata": {},
   "outputs": [],
   "source": [
    "# set this path to where the OpenAlex database will be stored\n",
    "path2openalex = '/home/ajgates/MAG'\n",
    "path2openalex = '/users/hgt6rn/Documents/DataSets/OpenAlex'\n"
   ]
  },
  {
   "cell_type": "code",
   "execution_count": 4,
   "id": "61b2080c",
   "metadata": {},
   "outputs": [],
   "source": [
    "myoa = pyscisci.OpenAlex(path2openalex, database_extension='csv.gz', keep_in_memory=False) \n",
    "# set keep_in_memory=False if you want to load the database each time its needed - good for when you \n",
    "# cant keep more than one dataframe in memory at a time\n",
    "# otherwise keep_in_memory=True will keep each database in memory after its loaded"
   ]
  },
  {
   "cell_type": "code",
   "execution_count": 5,
   "id": "3c15092c",
   "metadata": {},
   "outputs": [
    {
     "data": {
      "application/vnd.jupyter.widget-view+json": {
       "model_id": "cfc89ce910b4438480d6eee6676445c5",
       "version_major": 2,
       "version_minor": 0
      },
      "text/plain": [
       "Downloading OpenAlex File Number:   0%|          | 0/740 [00:00<?, ?it/s]"
      ]
     },
     "metadata": {},
     "output_type": "display_data"
    }
   ],
   "source": [
    "df_features_to_keep = ['all']  # keep all data\n",
    "df_features_to_keep = ['affiliations', 'authors', 'publications', 'references', \n",
    "                       'publicationauthoraffiliation', 'fields']  # keep everything besides the abstracts\n",
    "myoa.download_from_source(rewrite_existing = False,\n",
    "                         dataframe_list=df_features_to_keep)"
   ]
  },
  {
   "cell_type": "code",
   "execution_count": 6,
   "id": "6395510f",
   "metadata": {},
   "outputs": [
    {
     "data": {
      "application/vnd.jupyter.widget-view+json": {
       "model_id": "dee2536f94194a2da5a8b0d09d5bbd27",
       "version_major": 2,
       "version_minor": 0
      },
      "text/plain": [
       "Affiliations:   0%|          | 0/116 [00:00<?, ?it/s]"
      ]
     },
     "metadata": {},
     "output_type": "display_data"
    },
    {
     "ename": "AttributeError",
     "evalue": "'OpenAlex' object has no attribute 'database_extension'",
     "output_type": "error",
     "traceback": [
      "\u001b[0;31m---------------------------------------------------------------------------\u001b[0m",
      "\u001b[0;31mAttributeError\u001b[0m                            Traceback (most recent call last)",
      "Cell \u001b[0;32mIn [6], line 5\u001b[0m\n\u001b[1;32m      1\u001b[0m \u001b[38;5;66;03m# before we can start running our analysis, we have to preprocess the raw data into\u001b[39;00m\n\u001b[1;32m      2\u001b[0m \u001b[38;5;66;03m# DataFrames that are more convinent to work with\u001b[39;00m\n\u001b[1;32m      3\u001b[0m \n\u001b[1;32m      4\u001b[0m \u001b[38;5;66;03m# we only need to run this for the first time, but it will take awhile\u001b[39;00m\n\u001b[0;32m----> 5\u001b[0m \u001b[43mmyoa\u001b[49m\u001b[38;5;241;43m.\u001b[39;49m\u001b[43mpreprocess\u001b[49m\u001b[43m(\u001b[49m\u001b[43mdataframe_list\u001b[49m\u001b[38;5;241;43m=\u001b[39;49m\u001b[43m[\u001b[49m\u001b[38;5;124;43m'\u001b[39;49m\u001b[38;5;124;43mall\u001b[39;49m\u001b[38;5;124;43m'\u001b[39;49m\u001b[43m]\u001b[49m\u001b[43m)\u001b[49m\n",
      "File \u001b[0;32m~/Documents/GitHub/pyscisci/pyscisci/datasource/OpenAlex.py:64\u001b[0m, in \u001b[0;36mOpenAlex.preprocess\u001b[0;34m(self, dataframe_list, show_progress)\u001b[0m\n\u001b[1;32m     61\u001b[0m pubdataframe_list \u001b[38;5;241m=\u001b[39m \u001b[38;5;28mset\u001b[39m(dataframe_list)\u001b[38;5;241m.\u001b[39mintersection(openalex_works_dfset)\n\u001b[1;32m     63\u001b[0m \u001b[38;5;28;01mif\u001b[39;00m \u001b[38;5;124m'\u001b[39m\u001b[38;5;124maffiliations\u001b[39m\u001b[38;5;124m'\u001b[39m \u001b[38;5;129;01min\u001b[39;00m dataframe_list \u001b[38;5;129;01mor\u001b[39;00m \u001b[38;5;124m'\u001b[39m\u001b[38;5;124minstitutions\u001b[39m\u001b[38;5;124m'\u001b[39m \u001b[38;5;129;01min\u001b[39;00m dataframe_list:\n\u001b[0;32m---> 64\u001b[0m     \u001b[38;5;28;43mself\u001b[39;49m\u001b[38;5;241;43m.\u001b[39;49m\u001b[43mparse_affiliations\u001b[49m\u001b[43m(\u001b[49m\u001b[43mpreprocess\u001b[49m\u001b[43m \u001b[49m\u001b[38;5;241;43m=\u001b[39;49m\u001b[43m \u001b[49m\u001b[38;5;28;43;01mTrue\u001b[39;49;00m\u001b[43m,\u001b[49m\u001b[43m \u001b[49m\u001b[43mshow_progress\u001b[49m\u001b[38;5;241;43m=\u001b[39;49m\u001b[43mshow_progress\u001b[49m\u001b[43m)\u001b[49m\n\u001b[1;32m     66\u001b[0m \u001b[38;5;28;01mif\u001b[39;00m \u001b[38;5;124m'\u001b[39m\u001b[38;5;124mauthors\u001b[39m\u001b[38;5;124m'\u001b[39m \u001b[38;5;129;01min\u001b[39;00m dataframe_list:\n\u001b[1;32m     67\u001b[0m     \u001b[38;5;28mself\u001b[39m\u001b[38;5;241m.\u001b[39mparse_authors(preprocess \u001b[38;5;241m=\u001b[39m \u001b[38;5;28;01mTrue\u001b[39;00m, show_progress\u001b[38;5;241m=\u001b[39mshow_progress)\n",
      "File \u001b[0;32m~/Documents/GitHub/pyscisci/pyscisci/datasource/OpenAlex.py:295\u001b[0m, in \u001b[0;36mOpenAlex.parse_affiliations\u001b[0;34m(self, preprocess, specific_update, show_progress)\u001b[0m\n\u001b[1;32m    293\u001b[0m aff \u001b[38;5;241m=\u001b[39m pd\u001b[38;5;241m.\u001b[39mDataFrame(affiliation_info, columns \u001b[38;5;241m=\u001b[39m affil_column_names)\n\u001b[1;32m    294\u001b[0m \u001b[38;5;28;01mif\u001b[39;00m preprocess:\n\u001b[0;32m--> 295\u001b[0m     fname \u001b[38;5;241m=\u001b[39m os\u001b[38;5;241m.\u001b[39mpath\u001b[38;5;241m.\u001b[39mjoin(\u001b[38;5;28mself\u001b[39m\u001b[38;5;241m.\u001b[39mpath2database, \u001b[38;5;28mself\u001b[39m\u001b[38;5;241m.\u001b[39mpath2affiliation, \u001b[38;5;124m'\u001b[39m\u001b[38;5;132;01m{}\u001b[39;00m\u001b[38;5;132;01m{}\u001b[39;00m\u001b[38;5;124m.\u001b[39m\u001b[38;5;132;01m{}\u001b[39;00m\u001b[38;5;124m'\u001b[39m\u001b[38;5;241m.\u001b[39mformat(\u001b[38;5;28mself\u001b[39m\u001b[38;5;241m.\u001b[39mpath2affiliation, ifile, \u001b[38;5;28;43mself\u001b[39;49m\u001b[38;5;241;43m.\u001b[39;49m\u001b[43mdatabase_extension\u001b[49m))\n\u001b[1;32m    296\u001b[0m     \u001b[38;5;28mself\u001b[39m\u001b[38;5;241m.\u001b[39msave_data_file(aff, fname, key \u001b[38;5;241m=\u001b[39m\u001b[38;5;28mself\u001b[39m\u001b[38;5;241m.\u001b[39mpath2affiliation)\n\u001b[1;32m    298\u001b[0m     ifile \u001b[38;5;241m+\u001b[39m\u001b[38;5;241m=\u001b[39m \u001b[38;5;241m1\u001b[39m\n",
      "\u001b[0;31mAttributeError\u001b[0m: 'OpenAlex' object has no attribute 'database_extension'"
     ]
    }
   ],
   "source": [
    "# before we can start running our analysis, we have to preprocess the raw data into\n",
    "# DataFrames that are more convinent to work with\n",
    "\n",
    "# we only need to run this for the first time, but it will take awhile\n",
    "myoa.preprocess(dataframe_list=['all'])"
   ]
  },
  {
   "cell_type": "code",
   "execution_count": null,
   "id": "20165e51",
   "metadata": {},
   "outputs": [],
   "source": []
  }
 ],
 "metadata": {
  "kernelspec": {
   "display_name": "Python 3 (ipykernel)",
   "language": "python",
   "name": "python3"
  },
  "language_info": {
   "codemirror_mode": {
    "name": "ipython",
    "version": 3
   },
   "file_extension": ".py",
   "mimetype": "text/x-python",
   "name": "python",
   "nbconvert_exporter": "python",
   "pygments_lexer": "ipython3",
   "version": "3.10.8"
  }
 },
 "nbformat": 4,
 "nbformat_minor": 5
}
