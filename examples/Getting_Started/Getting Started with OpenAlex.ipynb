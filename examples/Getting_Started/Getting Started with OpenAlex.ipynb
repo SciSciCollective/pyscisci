{
 "cells": [
  {
   "cell_type": "code",
   "execution_count": 1,
   "id": "33b4cb14",
   "metadata": {},
   "outputs": [],
   "source": [
    "%load_ext autoreload\n",
    "%autoreload 2"
   ]
  },
  {
   "cell_type": "code",
   "execution_count": 2,
   "id": "874e645e",
   "metadata": {},
   "outputs": [
    {
     "name": "stdout",
     "output_type": "stream",
     "text": [
      "Using matplotlib backend: MacOSX\n"
     ]
    }
   ],
   "source": [
    "\n",
    "import pyscisci.all as pyscisci\n",
    "\n",
    "import numpy as np\n",
    "import matplotlib.pylab as plt\n",
    "try:\n",
    "    import seaborn as sns\n",
    "    sns.set_style('white')\n",
    "except:\n",
    "    pass\n",
    "\n",
    "%matplotlib"
   ]
  },
  {
   "cell_type": "code",
   "execution_count": 3,
   "id": "122e3e61",
   "metadata": {},
   "outputs": [],
   "source": [
    "# set this path to where the MAG database will be stored\n",
    "path2openalex = '/home/ajgates/MAG'\n",
    "path2openalex = '/Volumes/GatesExpansionDrive/DataSets/OpenAlex'\n"
   ]
  },
  {
   "cell_type": "code",
   "execution_count": 4,
   "id": "61b2080c",
   "metadata": {},
   "outputs": [],
   "source": [
    "myoa = pyscisci.OpenAlex(path2openalex, keep_in_memory=False) \n",
    "# set keep_in_memory=False if you want to load the database each time its needed - good for when you \n",
    "# cant keep more than one database in memory at a time\n",
    "# otherwise keep_in_memory=True will keep each database in memory after its loaded"
   ]
  },
  {
   "cell_type": "code",
   "execution_count": 5,
   "id": "3c15092c",
   "metadata": {},
   "outputs": [
    {
     "data": {
      "application/vnd.jupyter.widget-view+json": {
       "model_id": "1ead52fbbcb24b729a0e9ee71cc2df0d",
       "version_major": 2,
       "version_minor": 0
      },
      "text/plain": [
       "Downloading OpenAlex File Number:   0%|          | 0/520 [00:00<?, ?it/s]"
      ]
     },
     "metadata": {},
     "output_type": "display_data"
    }
   ],
   "source": [
    "df_features_to_keep = ['all']\n",
    "myoa.download_from_source(rewrite_existing = False,\n",
    "                         dataframe_list=df_features_to_keep)"
   ]
  },
  {
   "cell_type": "code",
   "execution_count": null,
   "id": "6395510f",
   "metadata": {},
   "outputs": [
    {
     "data": {
      "application/vnd.jupyter.widget-view+json": {
       "model_id": "69658d3d79df43839df0d2677e039909",
       "version_major": 2,
       "version_minor": 0
      },
      "text/plain": [
       "Affiliations:   0%|          | 0/64 [00:00<?, ?it/s]"
      ]
     },
     "metadata": {},
     "output_type": "display_data"
    },
    {
     "data": {
      "application/vnd.jupyter.widget-view+json": {
       "model_id": "85d1d5297ec543c3b94562759dc082b5",
       "version_major": 2,
       "version_minor": 0
      },
      "text/plain": [
       "Authors:   0%|          | 0/128 [00:00<?, ?it/s]"
      ]
     },
     "metadata": {},
     "output_type": "display_data"
    },
    {
     "data": {
      "application/vnd.jupyter.widget-view+json": {
       "model_id": "4b086264d2234a5483ce354f7a20ccb9",
       "version_major": 2,
       "version_minor": 0
      },
      "text/plain": [
       "Works:   0%|          | 0/192 [00:00<?, ?it/s]"
      ]
     },
     "metadata": {},
     "output_type": "display_data"
    }
   ],
   "source": [
    "# before we can start running our analysis, we have to preprocess the raw data into\n",
    "# DataFrames that are more convinent to work with\n",
    "\n",
    "# we only need to run this for the first time, but it will take awhile\n",
    "myoa.preprocess(dataframe_list=['all'])"
   ]
  },
  {
   "cell_type": "code",
   "execution_count": null,
   "id": "20165e51",
   "metadata": {},
   "outputs": [],
   "source": []
  }
 ],
 "metadata": {
  "kernelspec": {
   "display_name": "Python 3 (ipykernel)",
   "language": "python",
   "name": "python3"
  },
  "language_info": {
   "codemirror_mode": {
    "name": "ipython",
    "version": 3
   },
   "file_extension": ".py",
   "mimetype": "text/x-python",
   "name": "python",
   "nbconvert_exporter": "python",
   "pygments_lexer": "ipython3",
   "version": "3.8.12"
  }
 },
 "nbformat": 4,
 "nbformat_minor": 5
}
