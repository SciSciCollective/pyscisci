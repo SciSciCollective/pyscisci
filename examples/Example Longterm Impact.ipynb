{
 "cells": [
  {
   "cell_type": "code",
   "execution_count": 1,
   "metadata": {},
   "outputs": [],
   "source": [
    "%load_ext autoreload\n",
    "%autoreload 2\n",
    "\n",
    "import pyscisci.all as pyscisci\n",
    "\n",
    "import pandas as pd\n",
    "import numpy as np\n",
    "import matplotlib.pylab as plt\n",
    "try:\n",
    "    import seaborn as sns\n",
    "    sns.set_style('white')\n",
    "except:\n",
    "    pass\n",
    "\n",
    "%matplotlib inline"
   ]
  },
  {
   "cell_type": "code",
   "execution_count": 2,
   "metadata": {},
   "outputs": [],
   "source": [
    "# set this path to where the APS database will be stored\n",
    "path2aps = '/home/ajgates/APS'\n",
    "path2aps = '/Volumes/GatesExpansionDrive/DataSets/APS/APS2019'"
   ]
  },
  {
   "cell_type": "code",
   "execution_count": 3,
   "metadata": {},
   "outputs": [],
   "source": [
    "myaps = pyscisci.APS(path2aps, keep_in_memory=False) \n",
    "\n",
    "# set keep_in_memory=False if you want to load the database each time its needed - good for when you \n",
    "# cant keep more than one DataFrame in memory at a time\n",
    "\n",
    "# otherwise keep_in_memory=True will keep each DataFrame in memory after its loaded"
   ]
  },
  {
   "cell_type": "code",
   "execution_count": 4,
   "metadata": {},
   "outputs": [
    {
     "data": {
      "application/vnd.jupyter.widget-view+json": {
       "model_id": "6b5c6b08446e4cfaa5063a75d17fbc0a",
       "version_major": 2,
       "version_minor": 0
      },
      "text/plain": [
       "HBox(children=(HTML(value='Loading pub2ref'), FloatProgress(value=0.0, max=1.0), HTML(value='')))"
      ]
     },
     "metadata": {},
     "output_type": "display_data"
    },
    {
     "name": "stdout",
     "output_type": "stream",
     "text": [
      "\n"
     ]
    },
    {
     "data": {
      "application/vnd.jupyter.widget-view+json": {
       "model_id": "395380616426478e8f2e7162e33c03c1",
       "version_major": 2,
       "version_minor": 0
      },
      "text/plain": [
       "HBox(children=(HTML(value='Loading Publications'), FloatProgress(value=0.0, max=1.0), HTML(value='')))"
      ]
     },
     "metadata": {},
     "output_type": "display_data"
    },
    {
     "name": "stdout",
     "output_type": "stream",
     "text": [
      "\n"
     ]
    }
   ],
   "source": [
    "pub2ref_df = myaps.pub2ref_df\n",
    "pubdf = myaps.pub_df[['PublicationId', 'Date']]\n",
    "pubdf['Date'] = pd.to_datetime(pubdf['Date'], infer_datetime_format=True)"
   ]
  },
  {
   "cell_type": "code",
   "execution_count": 5,
   "metadata": {},
   "outputs": [
    {
     "name": "stdout",
     "output_type": "stream",
     "text": [
      "(8324631, 2)\n",
      "(8267865, 4)\n"
     ]
    }
   ],
   "source": [
    "print(pub2ref_df.shape)\n",
    "\n",
    "pub2ref_df = pub2ref_df.merge(pubdf[['PublicationId', 'Date']], \n",
    "                                            how='left', left_on='CitingPublicationId', right_on='PublicationId')\n",
    "del pub2ref_df['PublicationId']\n",
    "pub2ref_df = pub2ref_df.rename(columns={'Date':'CitingDate'})\n",
    "\n",
    "pub2ref_df = pub2ref_df.merge(pubdf[['PublicationId', 'Date']], \n",
    "                                            how='left', left_on='CitedPublicationId', right_on='PublicationId')\n",
    "del pub2ref_df['PublicationId']\n",
    "pub2ref_df = pub2ref_df.rename(columns={'Date':'CitedDate'})\n",
    "\n",
    "pub2ref_df.dropna(inplace=True)\n",
    "\n",
    "print(pub2ref_df.shape)"
   ]
  },
  {
   "cell_type": "code",
   "execution_count": 6,
   "metadata": {},
   "outputs": [
    {
     "data": {
      "text/plain": [
       "CitedPublicationId\n",
       "10.1103/PhysRev.1.1                1\n",
       "10.1103/PhysRevA.39.2411           1\n",
       "10.1103/PhysRevD.55.6403           1\n",
       "10.1103/PhysRevD.55.6584           1\n",
       "10.1103/PhysRevD.55.6603           1\n",
       "                               ...  \n",
       "10.1103/PhysRevB.50.17953       5464\n",
       "10.1103/PhysRev.136.B864        6218\n",
       "10.1103/PhysRevB.54.11169       7444\n",
       "10.1103/PhysRev.140.A1133       7734\n",
       "10.1103/PhysRevLett.77.3865    10666\n",
       "Name: CitingPublicationId, Length: 561040, dtype: int64"
      ]
     },
     "execution_count": 6,
     "metadata": {},
     "output_type": "execute_result"
    }
   ],
   "source": [
    "pub2ref_df.groupby('CitedPublicationId')['CitingPublicationId'].nunique().sort_values()"
   ]
  },
  {
   "cell_type": "code",
   "execution_count": 7,
   "metadata": {},
   "outputs": [
    {
     "data": {
      "text/plain": [
       "(24618, 4)"
      ]
     },
     "execution_count": 7,
     "metadata": {},
     "output_type": "execute_result"
    }
   ],
   "source": [
    "focusids = np.sort(['10.1103/PhysRev.136.B864', '10.1103/PhysRevLett.77.3865', '10.1103/PhysRev.140.A1133'])\n",
    "focus_cites = pub2ref_df.loc[pyscisci.isin_sorted(pub2ref_df['CitedPublicationId'].values, focusids)]\n",
    "focus_cites.sort_values(by=['CitingDate'], inplace=True)\n",
    "focus_cites.shape"
   ]
  },
  {
   "cell_type": "code",
   "execution_count": 8,
   "metadata": {},
   "outputs": [
    {
     "data": {
      "text/html": [
       "<div>\n",
       "<style scoped>\n",
       "    .dataframe tbody tr th:only-of-type {\n",
       "        vertical-align: middle;\n",
       "    }\n",
       "\n",
       "    .dataframe tbody tr th {\n",
       "        vertical-align: top;\n",
       "    }\n",
       "\n",
       "    .dataframe thead th {\n",
       "        text-align: right;\n",
       "    }\n",
       "</style>\n",
       "<table border=\"1\" class=\"dataframe\">\n",
       "  <thead>\n",
       "    <tr style=\"text-align: right;\">\n",
       "      <th></th>\n",
       "      <th>CitedPublicationId</th>\n",
       "      <th>lam</th>\n",
       "      <th>mu</th>\n",
       "      <th>sig</th>\n",
       "    </tr>\n",
       "  </thead>\n",
       "  <tbody>\n",
       "    <tr>\n",
       "      <th>0</th>\n",
       "      <td>10.1103/PhysRev.136.B864</td>\n",
       "      <td>6.205512</td>\n",
       "      <td>9.044825</td>\n",
       "      <td>0.788842</td>\n",
       "    </tr>\n",
       "    <tr>\n",
       "      <th>1</th>\n",
       "      <td>10.1103/PhysRev.140.A1133</td>\n",
       "      <td>6.678506</td>\n",
       "      <td>8.936498</td>\n",
       "      <td>0.977601</td>\n",
       "    </tr>\n",
       "    <tr>\n",
       "      <th>2</th>\n",
       "      <td>10.1103/PhysRevLett.77.3865</td>\n",
       "      <td>8.120082</td>\n",
       "      <td>8.191955</td>\n",
       "      <td>1.419675</td>\n",
       "    </tr>\n",
       "  </tbody>\n",
       "</table>\n",
       "</div>"
      ],
      "text/plain": [
       "            CitedPublicationId       lam        mu       sig\n",
       "0     10.1103/PhysRev.136.B864  6.205512  9.044825  0.788842\n",
       "1    10.1103/PhysRev.140.A1133  6.678506  8.936498  0.977601\n",
       "2  10.1103/PhysRevLett.77.3865  8.120082  8.191955  1.419675"
      ]
     },
     "execution_count": 8,
     "metadata": {},
     "output_type": "execute_result"
    }
   ],
   "source": [
    "longtermimpact = pyscisci.longterm_impact(focus_cites, colgroupby = 'CitedPublicationId', coldate='CitingDate')\n",
    "longtermimpact"
   ]
  },
  {
   "cell_type": "code",
   "execution_count": 15,
   "metadata": {},
   "outputs": [
    {
     "name": "stderr",
     "output_type": "stream",
     "text": [
      "<ipython-input-15-afaa4813ac21>:3: SettingWithCopyWarning: \n",
      "A value is trying to be set on a copy of a slice from a DataFrame\n",
      "\n",
      "See the caveats in the documentation: https://pandas.pydata.org/pandas-docs/stable/user_guide/indexing.html#returning-a-view-versus-a-copy\n",
      "  focus_cites.sort_values(by=['CitingDate'], inplace=True)\n"
     ]
    },
    {
     "data": {
      "image/png": "[encoded data removed]",
      "text/plain": [
       "<Figure size 1080x360 with 3 Axes>"
      ]
     },
     "metadata": {
      "needs_background": "light"
     },
     "output_type": "display_data"
    }
   ],
   "source": [
    "fig, ax = plt.subplots(1,3, figsize = (15,5))\n",
    "\n",
    "focus_cites.sort_values(by=['CitingDate'], inplace=True)\n",
    "\n",
    "for iax in range(len(focusids)):\n",
    "    focus_df = focus_cites[focus_cites['CitedPublicationId']==focusids[iax]]\n",
    "    recenter_time = (focus_df['CitingDate'] - focus_df['CitingDate'].min() ) / np.timedelta64(1,'D')\n",
    "    recenter_time = recenter_time[recenter_time>0]\n",
    "    \n",
    "    lam, mu, sig = longtermimpact[longtermimpact['CitedPublicationId'] == focusids[iax]][['lam', 'mu', 'sig']].values[0]\n",
    "    ax[iax].plot(recenter_time, np.arange(1,len(recenter_time) + 1), label='actual') \n",
    "    \n",
    "    ax[iax].plot(recenter_time, [pyscisci.predicted_c(t, lam, mu, sig) \n",
    "                                 for t in recenter_time], label='predicted')\n",
    "    \n",
    "ax[0].set_ylabel('total citations')\n",
    "ax[0].set_xlabel('time since publication')\n",
    "    \n",
    "plt.legend()\n",
    "plt.show()"
   ]
  },
  {
   "cell_type": "code",
   "execution_count": null,
   "metadata": {},
   "outputs": [],
   "source": []
  }
 ],
 "metadata": {
  "kernelspec": {
   "display_name": "Python 3",
   "language": "python",
   "name": "python3"
  },
  "language_info": {
   "codemirror_mode": {
    "name": "ipython",
    "version": 3
   },
   "file_extension": ".py",
   "mimetype": "text/x-python",
   "name": "python",
   "nbconvert_exporter": "python",
   "pygments_lexer": "ipython3",
   "version": "3.9.0"
  }
 },
 "nbformat": 4,
 "nbformat_minor": 4
}
