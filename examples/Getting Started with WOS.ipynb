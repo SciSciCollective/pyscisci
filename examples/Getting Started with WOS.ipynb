{
 "cells": [
  {
   "cell_type": "code",
   "execution_count": null,
   "metadata": {},
   "outputs": [],
   "source": [
    "\n",
    "import pyscisci.all as pyscisci\n",
    "\n",
    "import numpy as np\n",
    "import matplotlib.pylab as plt\n",
    "try:\n",
    "    import seaborn as sns\n",
    "    sns.set_style('white')\n",
    "except:\n",
    "    pass\n",
    "\n",
    "%matplotlib inline"
   ]
  },
  {
   "cell_type": "code",
   "execution_count": null,
   "metadata": {},
   "outputs": [],
   "source": [
    "# set this path to where the WOS database will be stored\n",
    "path2wos = '/home/ajgates/WOS'\n"
   ]
  },
  {
   "cell_type": "code",
   "execution_count": null,
   "metadata": {},
   "outputs": [],
   "source": [
    "mywos = pyscisci.WOS(path2wos, keep_in_memory=False) \n",
    "# set keep_in_memory=False if you want to load the database each time its needed - good for when you \n",
    "# cant keep more than one database in memory at a time\n",
    "# otherwise keep_in_memory=True will keep each database in memory after its loaded"
   ]
  },
  {
   "cell_type": "code",
   "execution_count": null,
   "metadata": {},
   "outputs": [],
   "source": [
    "# before we can start running our analysis, we have to preprocess the raw data into\n",
    "# DataFrames that are more convinent to work with\n",
    "\n",
    "# we only need to run this for the first time, but it will take awhile\n",
    "mywos.preprocess(show_progress=True)"
   ]
  },
  {
   "cell_type": "code",
   "execution_count": null,
   "metadata": {},
   "outputs": [],
   "source": [
    "# MAG contains the following dataframes:\n",
    "\n",
    "# pub_df - keeps all of the publication information\n",
    "# columns : ['PublicationId', 'Year', 'JournalId', 'FamilyId',  'Doi', 'Title', 'Date', 'Volume', 'Issue', 'DocType']\n",
    "\n",
    "# author_df - keeps all of the author information\n",
    "# columns : ['AuthorId', 'FullName', 'LastName', 'FirstName', 'MiddleName']\n",
    "\n",
    "# pub2ref_df - links publications to their references or citations\n",
    "# columns : ['CitingPublicationId', 'CitedPublicationId']\n",
    "\n",
    "# paa_df - links publications, authors, and affiliations\n",
    "# columns : ['PublicationId', 'AuthorId', 'AffiliationId', 'AuthorSequence',  'OrigAuthorName', 'OrigAffiliationName']\n",
    "\n",
    "# author2pub_df - links the authors to their publications\n",
    "# columns : ['PublicationId', 'AuthorId', 'AuthorOrder']\n",
    "\n",
    "# field_df - field information\n",
    "# columns : ['FieldId', 'FieldLevel', 'NumberPublications', 'FieldName']\n",
    "\n",
    "# pub2field_df - links publications to their fields\n",
    "# columns : ['PublicationId', 'FieldId']\n",
    "\n",
    "# affiliation_df - affiliation information\n",
    "# columns : ['AffiliationId', 'NumberPublications', 'NumberCitations', 'FullName', 'GridId', 'OfficialPage', 'WikiPage', 'Latitude', 'Longitude']\n",
    "\n",
    "# journal_df - journal information\n",
    "# columns : ['JournalId', 'FullName', 'Issn', 'Publisher', 'Webpage']\n",
    "\n",
    "\n",
    "# after additional processing, these DataFrames become available\n",
    "\n",
    "# pub2refnoself_df - links publications to their references or citations with self-citations removed\n",
    "# columns : ['CitingPublicationId', 'CitedPublicationId']\n",
    "\n",
    "# impact_df - precomputed citation counts, columns will depend on which counts are computed\n",
    "# columns : ['PublicationId', 'Year', ....]"
   ]
  },
  {
   "cell_type": "code",
   "execution_count": null,
   "metadata": {},
   "outputs": [],
   "source": [
    "# lets plot the number of publications each year\n",
    "pub_df = mywos.pub_df\n",
    "\n",
    "yearly_articles = pyscisci.groupby_count(df=pub_df, colgroupby='Year', colcountby='PublicationId', unique=True)\n",
    "yearly_articles.sort_values(by='Year', inplace=True)\n",
    "yearly_articles = yearly_articles.loc[yearly_articles['Year'] > 0]\n",
    "\n",
    "fig, ax = plt.subplots(1,1,figsize=(8,5))\n",
    "\n",
    "ax.plot(yearly_articles['Year'],yearly_articles['PublicationIdCount'])\n",
    "\n",
    "ax.set_xlabel('Year')\n",
    "ax.set_ylabel(\"# of publications\")\n",
    "ax.set_yscale('log')\n",
    "\n",
    "plt.show()"
   ]
  },
  {
   "cell_type": "code",
   "execution_count": null,
   "metadata": {},
   "outputs": [],
   "source": [
    "# now we can see the distribution of author productivity \n",
    "pa_df = mymag.author2pub_df # publication author relationships\n",
    "\n",
    "author_prod = pyscisci.author_productivity(pa_df, colgroupby = 'AuthorId', colcountby = 'PublicationId')\n",
    "\n",
    "prodvalues, prodcounts = np.unique(author_prod['Productivity'].values, return_counts=True)\n",
    "\n",
    "fig, ax = plt.subplots(1,1,figsize=(8,5))\n",
    "\n",
    "ax.scatter(prodvalues, prodcounts)\n",
    "\n",
    "ax.set_xlabel('Productivity')\n",
    "ax.set_ylabel(\"# of authors\")\n",
    "ax.set_xscale('log')\n",
    "ax.set_yscale('log')\n",
    "\n",
    "plt.show()"
   ]
  },
  {
   "cell_type": "code",
   "execution_count": null,
   "metadata": {},
   "outputs": [],
   "source": []
  }
 ],
 "metadata": {
  "kernelspec": {
   "display_name": "Python 3",
   "language": "python",
   "name": "python3"
  },
  "language_info": {
   "codemirror_mode": {
    "name": "ipython",
    "version": 3
   },
   "file_extension": ".py",
   "mimetype": "text/x-python",
   "name": "python",
   "nbconvert_exporter": "python",
   "pygments_lexer": "ipython3",
   "version": "3.9.0"
  }
 },
 "nbformat": 4,
 "nbformat_minor": 2
}
