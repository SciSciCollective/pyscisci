{
 "cells": [
  {
   "cell_type": "code",
   "execution_count": 1,
   "metadata": {},
   "outputs": [],
   "source": [
    "%matplotlib inline\n",
    "\n",
    "import pyscisci.all as pyscisci\n",
    "\n",
    "import pandas as pd\n",
    "import numpy as np\n",
    "import matplotlib.pylab as plt\n",
    "\n",
    "# to make pretty plots\n",
    "try:\n",
    "    import seaborn as sns\n",
    "    sns.set_style('white')\n",
    "except:\n",
    "    pass\n",
    "\n"
   ]
  },
  {
   "cell_type": "code",
   "execution_count": 2,
   "metadata": {},
   "outputs": [],
   "source": [
    "# Derek J. de Solla Price\n",
    "focus_aid = 2537508914\n",
    "\n",
    "path2mag = '/home/ajgates/MAG'\n",
    "path2mag = '/Volumes/GatesExpansionDrive/DataSets/MAG'\n",
    "mymag = pyscisci.MAG(path2mag, keep_in_memory=False, show_progress=True) \n"
   ]
  },
  {
   "cell_type": "code",
   "execution_count": 4,
   "metadata": {},
   "outputs": [],
   "source": [
    "author_career = mymag.load_publicationauthoraffiliation(columns=['PublicationId', 'AuthorId', 'AffiliationId'],\n",
    "                                                        isindict = {'AuthorId':np.sort([focus_aid])},\n",
    "                                                      duplicate_subset=['PublicationId', 'AuthorId', 'AffiliationId'])\n",
    "\n",
    "pub2year = mymag.pub2year\n",
    "author_career['Year'] = [pub2year.get(pid, None) for pid in author_career['PublicationId'].values]\n",
    "author_career.dropna(inplace=True)\n",
    "\n"
   ]
  },
  {
   "cell_type": "code",
   "execution_count": null,
   "metadata": {},
   "outputs": [],
   "source": []
  }
 ],
 "metadata": {
  "kernelspec": {
   "display_name": "Python 3",
   "language": "python",
   "name": "python3"
  },
  "language_info": {
   "codemirror_mode": {
    "name": "ipython",
    "version": 3
   },
   "file_extension": ".py",
   "mimetype": "text/x-python",
   "name": "python",
   "nbconvert_exporter": "python",
   "pygments_lexer": "ipython3",
   "version": "3.8.6"
  }
 },
 "nbformat": 4,
 "nbformat_minor": 4
}
