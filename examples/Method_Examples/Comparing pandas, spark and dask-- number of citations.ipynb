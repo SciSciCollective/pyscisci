{
 "cells": [
  {
   "cell_type": "code",
   "execution_count": 1,
   "id": "3efa84de",
   "metadata": {},
   "outputs": [],
   "source": [
    "import os\n",
    "import pandas as pd\n",
    "import numpy as np\n",
    "import pyspark\n",
    "\n",
    "import pyscisci.all as pyscisci\n",
    "import time\n",
    "\n",
    "path2mag = '/users/hgt6rn/Documents/DataSets/MAG'\n",
    "\n",
    "mymag = pyscisci.MAG(path2mag, database_extension='hdf', show_progress=True)"
   ]
  },
  {
   "cell_type": "code",
   "execution_count": 2,
   "id": "3f603473",
   "metadata": {},
   "outputs": [
    {
     "name": "stdout",
     "output_type": "stream",
     "text": [
      "(4279539,)\n"
     ]
    }
   ],
   "source": [
    "pub2year = mymag.pub2year\n",
    "pub2000 = np.sort([pid for pid,y in pub2year.items() if y==2000])\n",
    "print(pub2000.shape)"
   ]
  },
  {
   "cell_type": "code",
   "execution_count": 3,
   "id": "686ccff8",
   "metadata": {},
   "outputs": [
    {
     "data": {
      "application/vnd.jupyter.widget-view+json": {
       "model_id": "de4dd3bfe7b7482a9aecbfa36b105fdf",
       "version_major": 2,
       "version_minor": 0
      },
      "text/plain": [
       "Loading pub2ref:   0%|          | 0/186 [00:00<?, ?it/s]"
      ]
     },
     "metadata": {},
     "output_type": "display_data"
    }
   ],
   "source": [
    "pub2ref = mymag.load_references(filter_dict={'CitedPublicationId':pub2000})\n"
   ]
  },
  {
   "cell_type": "code",
   "execution_count": 4,
   "id": "7e996f9a",
   "metadata": {},
   "outputs": [
    {
     "name": "stdout",
     "output_type": "stream",
     "text": [
      "37.078683853149414\n"
     ]
    }
   ],
   "source": [
    "stime = time.time()\n",
    "\n",
    "ncites = pub2ref.groupby('CitedPublicationId')['CitingPublicationId'].nunique()\n",
    "\n",
    "etime = time.time()\n",
    "print(etime-stime)"
   ]
  },
  {
   "cell_type": "code",
   "execution_count": null,
   "id": "0741b300",
   "metadata": {},
   "outputs": [
    {
     "name": "stderr",
     "output_type": "stream",
     "text": [
      "Setting default log level to \"WARN\".\n",
      "To adjust logging level use sc.setLogLevel(newLevel). For SparkR, use setLogLevel(newLevel).\n"
     ]
    },
    {
     "name": "stdout",
     "output_type": "stream",
     "text": [
      "22/12/09 14:49:42 WARN NativeCodeLoader: Unable to load native-hadoop library for your platform... using builtin-java classes where applicable\n"
     ]
    },
    {
     "name": "stderr",
     "output_type": "stream",
     "text": [
      "/opt/homebrew/lib/python3.10/site-packages/pyspark/sql/pandas/conversion.py:474: FutureWarning: iteritems is deprecated and will be removed in a future version. Use .items instead.\n",
      "  for column, series in pdf.iteritems():\n",
      "/opt/homebrew/lib/python3.10/site-packages/pyspark/sql/pandas/conversion.py:486: FutureWarning: iteritems is deprecated and will be removed in a future version. Use .items instead.\n",
      "  for column, series in pdf.iteritems():\n"
     ]
    }
   ],
   "source": [
    "from pyspark.sql import SparkSession\n",
    "from pyspark.sql.functions import col, countDistinct\n",
    "\n",
    "spark = SparkSession.builder.config(\"spark.driver.memory\", \"50g\").getOrCreate()\n",
    "\n",
    "stime = time.time()\n",
    "df = spark.createDataFrame(pub2ref)\n",
    "print(\"Create df:\", time.time()-stime)\n"
   ]
  },
  {
   "cell_type": "code",
   "execution_count": null,
   "id": "24f3fb8d",
   "metadata": {},
   "outputs": [],
   "source": [
    "stime = time.time()\n",
    "\n",
    "df.groupby('CitedPublicationId').agg(countDistinct('CitingPublicationId')).show()\n",
    "\n",
    "print(\"Compute Groupby:\", time.time()-stime)"
   ]
  },
  {
   "cell_type": "code",
   "execution_count": null,
   "id": "9db1c601",
   "metadata": {},
   "outputs": [],
   "source": []
  }
 ],
 "metadata": {
  "kernelspec": {
   "display_name": "Python 3 (ipykernel)",
   "language": "python",
   "name": "python3"
  },
  "language_info": {
   "codemirror_mode": {
    "name": "ipython",
    "version": 3
   },
   "file_extension": ".py",
   "mimetype": "text/x-python",
   "name": "python",
   "nbconvert_exporter": "python",
   "pygments_lexer": "ipython3",
   "version": "3.10.8"
  }
 },
 "nbformat": 4,
 "nbformat_minor": 5
}
